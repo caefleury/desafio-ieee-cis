{
 "cells": [
  {
   "cell_type": "markdown",
   "metadata": {},
   "source": [
    "# Desafio CIS-IEEE\n"
   ]
  },
  {
   "cell_type": "markdown",
   "metadata": {},
   "source": [
    "Importar dependências e ler arquivo de entrada.\n"
   ]
  },
  {
   "cell_type": "code",
   "execution_count": null,
   "metadata": {},
   "outputs": [],
   "source": [
    "import pandas as pd\n",
    "import matplotlib.pyplot as plt"
   ]
  },
  {
   "cell_type": "code",
   "execution_count": null,
   "metadata": {},
   "outputs": [],
   "source": [
    "df_drugs = pd.read_csv('./Drugs.csv')"
   ]
  },
  {
   "cell_type": "code",
   "execution_count": null,
   "metadata": {},
   "outputs": [],
   "source": [
    "df_drugs.head(5)"
   ]
  },
  {
   "cell_type": "markdown",
   "metadata": {},
   "source": [
    "Importações feitas e dataframe definido"
   ]
  },
  {
   "cell_type": "markdown",
   "metadata": {},
   "source": [
    "### Respostas"
   ]
  },
  {
   "cell_type": "markdown",
   "metadata": {},
   "source": [
    "#### 1. No dataset existem alguns valores faltantes. Antes de começar a manipular os dados, trate essas informações e descreva sucintamente as alterações feitas."
   ]
  },
  {
   "cell_type": "code",
   "execution_count": null,
   "metadata": {},
   "outputs": [],
   "source": [
    "df_drugs.info()"
   ]
  },
  {
   "cell_type": "code",
   "execution_count": null,
   "metadata": {},
   "outputs": [],
   "source": [
    "df_drugs.isna().sum()"
   ]
  },
  {
   "cell_type": "markdown",
   "metadata": {},
   "source": [
    "É possível identificar que existem valores faltantes no dataset. O caso mais crítico é a coluna \"Income (USD)\". Primeiro trocarei o nome da coluna para facilitar a manipulação dos dados."
   ]
  },
  {
   "cell_type": "code",
   "execution_count": null,
   "metadata": {},
   "outputs": [],
   "source": [
    "# Altera o nome da coluna para Income\n",
    "df_drugs.rename(columns={'Income (USD)': 'Income'},inplace='True')"
   ]
  },
  {
   "cell_type": "markdown",
   "metadata": {},
   "source": [
    "Vamos analisar os valores faltantes nas colunas e identificar os casos mais críticos."
   ]
  },
  {
   "cell_type": "code",
   "execution_count": null,
   "metadata": {},
   "outputs": [],
   "source": [
    "# Quantas linhas tem pelo menos uma coluna com valor ausente\n",
    "df_drugs[df_drugs.isna().any(axis=1)]"
   ]
  },
  {
   "cell_type": "code",
   "execution_count": null,
   "metadata": {},
   "outputs": [],
   "source": [
    "# Mostra a quantidade de valores faltantes na coluna Income (crítico)\n",
    "df_drugs.Income.isna().sum()"
   ]
  },
  {
   "cell_type": "markdown",
   "metadata": {},
   "source": [
    "Existem duas possíveis abordagens para tratar os valores faltantes:\n",
    "- Preencher os valores faltantes com a média dos valores existentes\n",
    "- Remover linhas que possuam valores faltantes.\n",
    "- Excluir os valores ausentes e desconsiderar a coluna\n",
    "\n",
    "Para as colunas com poucos valores ausentes (<10) optei por remover as poucas linhas com valores faltantes. Para as colunas com muitos valores ausentes (>10) optei por excluir a coluna."
   ]
  },
  {
   "cell_type": "markdown",
   "metadata": {},
   "source": [
    "Primeiro vou tratar a coluna Income que possui muitos valores faltantes. Nesse caso, devido a quantidade alta de valores faltantes (proxima da quantidade total de linhas) é interessante desconsiderar a coluna."
   ]
  },
  {
   "cell_type": "code",
   "execution_count": null,
   "metadata": {},
   "outputs": [],
   "source": [
    "df_drugs.drop(columns=['Income'],axis=1, inplace=True)"
   ]
  },
  {
   "cell_type": "markdown",
   "metadata": {},
   "source": [
    "Agora para os outros valores ausentes que aparecem em poucos casos, podemos ou remover as linhas ou preencher com a média dos valores existentes. Vou optar por remover as linhas, visto que são muitas colunas que possuem valores faltantes."
   ]
  },
  {
   "cell_type": "code",
   "execution_count": null,
   "metadata": {},
   "outputs": [],
   "source": [
    "df_drugs.dropna(axis=0, inplace=True)"
   ]
  },
  {
   "cell_type": "markdown",
   "metadata": {},
   "source": [
    "Como passamos de 1862 linhas para 1853 linhas (redução de 0.4%), é possivel considerar a remoção das linhas com valores faltantes uma abordagem válida. Em casos onde muitas linhas foram removidas, seria interessante substituir os valores pela média."
   ]
  },
  {
   "cell_type": "code",
   "execution_count": null,
   "metadata": {},
   "outputs": [],
   "source": [
    "df_drugs.info()"
   ]
  },
  {
   "cell_type": "code",
   "execution_count": null,
   "metadata": {},
   "outputs": [],
   "source": [
    "plt.figure(figsize=(10, 6))\n",
    "plt.hist(df_drugs.sort_values(by='Age')['Age'], bins=20, edgecolor='black')\n",
    "plt.title('Distribuição das Idades')\n",
    "plt.xlabel('Idade')\n",
    "plt.ylabel('Entradas')\n",
    "plt.show()\n"
   ]
  },
  {
   "cell_type": "markdown",
   "metadata": {},
   "source": [
    "#### 3. Há uma relação entre o nível educacional e o consumo de substâncias?"
   ]
  }
 ],
 "metadata": {
  "kernelspec": {
   "display_name": ".venv",
   "language": "python",
   "name": "python3"
  },
  "language_info": {
   "codemirror_mode": {
    "name": "ipython",
    "version": 3
   },
   "file_extension": ".py",
   "mimetype": "text/x-python",
   "name": "python",
   "nbconvert_exporter": "python",
   "pygments_lexer": "ipython3",
   "version": "3.10.12"
  }
 },
 "nbformat": 4,
 "nbformat_minor": 2
}
